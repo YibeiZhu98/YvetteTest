{
 "cells": [
  {
   "cell_type": "markdown",
   "metadata": {},
   "source": [
    "# Local Environment Cleanup & Setup Guide (macOS)  \n",
    "\n",
    "this is a test file, I will clean up the formatting later:)  \n",
    "1. Install Homebrew  \n",
    "•\tHomebrew is the macOS package manager used to install tools like tmux, python, etc.  \n",
    "•\tInstall using terminal  \n",
    "2. Uninstall Old Conda (Optional)  \n",
    "•\tIf you've installed Conda multiple times or it's broken, uninstall it cleanly.  \n",
    "•\tDelete old paths or files related to unused Miniconda or Anaconda installs.  \n",
    "3. Install Miniconda (Fresh)  \n",
    "•\tMiniconda is a lightweight version of Anaconda.  \n",
    "•\tInstall using terminal  \n",
    "4. Create a New Conda Environment  \n",
    "•\tStart fresh with a clean Python environment.  \n",
    "- `conda env create -n myenv python=3.13`\n",
    "5. Install or Update tmux in the new Conda Environment, and other lab-related work  \n",
    "•\tImportant to always be in the new Conda Environment for our lab related work  \n",
    "•\tUse tmux to keep long-running sessions alive, even if your terminal closes.  \n",
    "•\tGood for training ML models, remote dev, or multitasking workflows.  \n",
    "6. Set Default Interpreter in VS Code  \n",
    "•\tOpen any Python file and select your new Conda environment as the default interpreter.  \n",
    "7. Clean Up Old Environments and Cache (Optional)  \n",
    "•\tCheck what environments you currently have and what packages are installed in each  \n",
    "•\tDelete unused or outdated environments as well as packages installed elsewhere  \n",
    "•\tFarmwork is your local environment. Do not keep any packages there as well we be working within a Conda environment  "
   ]
  },
  {
   "cell_type": "markdown",
   "metadata": {},
   "source": []
  }
 ],
 "metadata": {
  "kernelspec": {
   "display_name": "ralab",
   "language": "python",
   "name": "python3"
  },
  "language_info": {
   "name": "python",
   "version": "3.11.13"
  }
 },
 "nbformat": 4,
 "nbformat_minor": 2
}
